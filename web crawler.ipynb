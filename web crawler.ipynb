{
 "cells": [
  {
   "cell_type": "code",
   "execution_count": 1,
   "id": "e8d585c5",
   "metadata": {},
   "outputs": [],
   "source": [
    "import os\n",
    "import re\n",
    "import html_to_json\n",
    "import pandas as pd\n",
    "from bs4 import BeautifulSoup\n",
    "from urllib import request\n",
    "from selenium import webdriver\n",
    "import time"
   ]
  },
  {
   "cell_type": "code",
   "execution_count": 2,
   "id": "abc9874b",
   "metadata": {},
   "outputs": [],
   "source": [
    "df = pd.read_csv(\"d:/uni_url.csv\")"
   ]
  },
  {
   "cell_type": "code",
   "execution_count": 3,
   "id": "26135caa",
   "metadata": {},
   "outputs": [
    {
     "data": {
      "text/html": [
       "<div>\n",
       "<style scoped>\n",
       "    .dataframe tbody tr th:only-of-type {\n",
       "        vertical-align: middle;\n",
       "    }\n",
       "\n",
       "    .dataframe tbody tr th {\n",
       "        vertical-align: top;\n",
       "    }\n",
       "\n",
       "    .dataframe thead th {\n",
       "        text-align: right;\n",
       "    }\n",
       "</style>\n",
       "<table border=\"1\" class=\"dataframe\">\n",
       "  <thead>\n",
       "    <tr style=\"text-align: right;\">\n",
       "      <th></th>\n",
       "      <th>university</th>\n",
       "      <th>url</th>\n",
       "    </tr>\n",
       "  </thead>\n",
       "  <tbody>\n",
       "    <tr>\n",
       "      <th>0</th>\n",
       "      <td>Massachusetts Institute of Technology (MIT)</td>\n",
       "      <td>https://www.topuniversities.com/universities/m...</td>\n",
       "    </tr>\n",
       "    <tr>\n",
       "      <th>1</th>\n",
       "      <td>University of Cambridge</td>\n",
       "      <td>https://www.topuniversities.com/universities/u...</td>\n",
       "    </tr>\n",
       "    <tr>\n",
       "      <th>2</th>\n",
       "      <td>Stanford University</td>\n",
       "      <td>https://www.topuniversities.com/universities/s...</td>\n",
       "    </tr>\n",
       "    <tr>\n",
       "      <th>3</th>\n",
       "      <td>University of Oxford</td>\n",
       "      <td>https://www.topuniversities.com/universities/u...</td>\n",
       "    </tr>\n",
       "    <tr>\n",
       "      <th>4</th>\n",
       "      <td>Harvard University</td>\n",
       "      <td>https://www.topuniversities.com/universities/h...</td>\n",
       "    </tr>\n",
       "    <tr>\n",
       "      <th>...</th>\n",
       "      <td>...</td>\n",
       "      <td>...</td>\n",
       "    </tr>\n",
       "    <tr>\n",
       "      <th>595</th>\n",
       "      <td>University of Crete</td>\n",
       "      <td>https://www.topuniversities.com/universities/u...</td>\n",
       "    </tr>\n",
       "    <tr>\n",
       "      <th>596</th>\n",
       "      <td>University of Guelph</td>\n",
       "      <td>https://www.topuniversities.com/universities/u...</td>\n",
       "    </tr>\n",
       "    <tr>\n",
       "      <th>597</th>\n",
       "      <td>University of Jordan</td>\n",
       "      <td>https://www.topuniversities.com/universities/u...</td>\n",
       "    </tr>\n",
       "    <tr>\n",
       "      <th>598</th>\n",
       "      <td>University of Minho</td>\n",
       "      <td>https://www.topuniversities.com/universities/u...</td>\n",
       "    </tr>\n",
       "    <tr>\n",
       "      <th>599</th>\n",
       "      <td>University of Pretoria</td>\n",
       "      <td>https://www.topuniversities.com/universities/u...</td>\n",
       "    </tr>\n",
       "  </tbody>\n",
       "</table>\n",
       "<p>600 rows × 2 columns</p>\n",
       "</div>"
      ],
      "text/plain": [
       "                                      university  \\\n",
       "0    Massachusetts Institute of Technology (MIT)   \n",
       "1                        University of Cambridge   \n",
       "2                            Stanford University   \n",
       "3                           University of Oxford   \n",
       "4                             Harvard University   \n",
       "..                                           ...   \n",
       "595                          University of Crete   \n",
       "596                         University of Guelph   \n",
       "597                         University of Jordan   \n",
       "598                          University of Minho   \n",
       "599                       University of Pretoria   \n",
       "\n",
       "                                                   url  \n",
       "0    https://www.topuniversities.com/universities/m...  \n",
       "1    https://www.topuniversities.com/universities/u...  \n",
       "2    https://www.topuniversities.com/universities/s...  \n",
       "3    https://www.topuniversities.com/universities/u...  \n",
       "4    https://www.topuniversities.com/universities/h...  \n",
       "..                                                 ...  \n",
       "595  https://www.topuniversities.com/universities/u...  \n",
       "596  https://www.topuniversities.com/universities/u...  \n",
       "597  https://www.topuniversities.com/universities/u...  \n",
       "598  https://www.topuniversities.com/universities/u...  \n",
       "599  https://www.topuniversities.com/universities/u...  \n",
       "\n",
       "[600 rows x 2 columns]"
      ]
     },
     "execution_count": 3,
     "metadata": {},
     "output_type": "execute_result"
    }
   ],
   "source": [
    "df"
   ]
  },
  {
   "cell_type": "code",
   "execution_count": 4,
   "id": "243f1495",
   "metadata": {
    "scrolled": true
   },
   "outputs": [],
   "source": [
    "# new dictionary to store the information\n",
    "dict_uni = {}\n",
    "# iterate the first 100 universities\n",
    "for i in range(0,100):\n",
    "    university = df.iloc[i][0]\n",
    "    dict_uni[university] = {}\n",
    "    url = df.iloc[i][1]\n",
    "    # call chrome drive\n",
    "    driver = webdriver.Chrome()\n",
    "    driver.get(url)\n",
    "    soup = BeautifulSoup(driver.page_source)\n",
    "\n",
    "    while len(soup.find_all('div',class_='criteria-wrap'))==0:\n",
    "        driver.get(url)\n",
    "        soup = BeautifulSoup(driver.page_source)\n",
    "        # sleep to increase robust of crawler\n",
    "        time.sleep(5)\n",
    "\n",
    "    t2=soup.find_all('div',class_='criteria-wrap')[0].find_all('div',class_='circle')\n",
    "    \n",
    "    try:\n",
    "        for k in t2:\n",
    "            # extract information from the html\n",
    "            js=html_to_json.convert(str(k))\n",
    "            properties=js['div'][0]['div'][2]['_value']\n",
    "            score=js['div'][0]['div'][0]['_value']\n",
    "            dict_uni[university][properties] = score\n",
    "    except:\n",
    "        # handle exception\n",
    "        dict_uni[university][\"overall\"] = \"\""
   ]
  },
  {
   "cell_type": "code",
   "execution_count": 5,
   "id": "c88c74d1",
   "metadata": {},
   "outputs": [],
   "source": [
    "df_university_score = pd.DataFrame(dict_uni).T"
   ]
  },
  {
   "cell_type": "code",
   "execution_count": 6,
   "id": "8199e98e",
   "metadata": {},
   "outputs": [],
   "source": [
    "df_university_score.to_csv(\"d:\\Sample_data.csv\")"
   ]
  }
 ],
 "metadata": {
  "kernelspec": {
   "display_name": "Python 3 (ipykernel)",
   "language": "python",
   "name": "python3"
  },
  "language_info": {
   "codemirror_mode": {
    "name": "ipython",
    "version": 3
   },
   "file_extension": ".py",
   "mimetype": "text/x-python",
   "name": "python",
   "nbconvert_exporter": "python",
   "pygments_lexer": "ipython3",
   "version": "3.11.5"
  }
 },
 "nbformat": 4,
 "nbformat_minor": 5
}
